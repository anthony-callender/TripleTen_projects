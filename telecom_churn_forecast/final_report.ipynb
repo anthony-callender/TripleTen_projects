{
 "cells": [
  {
   "cell_type": "markdown",
   "id": "c4d32ca1-06e7-4d40-bbcc-72d17b631b61",
   "metadata": {
    "tags": []
   },
   "source": [
    "# Final report"
   ]
  },
  {
   "cell_type": "markdown",
   "id": "0be982cf-dfed-481e-97fc-528c34141ba6",
   "metadata": {
    "tags": []
   },
   "source": [
    "# Solution Report\n",
    "\n",
    "## Steps Executed:\n",
    "1. **Reading The Data:** Completed as per the plan. Verified uniqueness and absence of missing values.\n",
    "2. **Data Cleaning & Preparation:** Lowercased column names, merged dataframes, and converted columns to appropriate formats.\n",
    "3. **Exploratory Data Analysis (EDA):** Summarized data; identified outliers in contract duration distribution.\n",
    "4. **Data Preprocessing & Feature Engineering:** Created target feature, addressed class imbalance, applied encoding, and scaled data.\n",
    "5. **Modeling:** Trained XGBoost classifier, conducted hyperparameter tuning.\n",
    "\n",
    "## Skipped Steps and Reasons:\n",
    "None of the steps from the plan were skipped. Each step was crucial in preparing the data, understanding its characteristics, and building a robust predictive model.\n",
    "\n",
    "## Encountered Difficulties & Solutions:\n",
    "- **Outlier Identification:** Addressed outliers in contract duration distribution by plotting boxplots and applying standard threshold criteria (1.5).\n",
    "- **Class Imbalance:** Managed class imbalance by up-sampling the minority class to ensure balanced representation.\n",
    "- **Model Selection:** We used XGBoost due to its compatibility with tabular data.\n",
    "\n",
    "## Key Steps in Task Resolution:\n",
    "- **Data Preparation:** Merging dataframes, formatting columns, and ensuring data integrity.\n",
    "- **Feature Engineering:** Creating target labels, handling class imbalance, encoding categorical variables.\n",
    "- **Model Training:** Utilizing XGBoost and optimizing its performance via hyperparameter tuning.\n",
    "\n",
    "## Final Model & Quality Score:\n",
    "The final model employed is an XGBoost classifier. Post hyperparameter tuning, the model achieved an AUC-ROC score of 0.84, indicating a strong predictive capability for identifying customer churn.\n",
    "\n",
    "---\n",
    "\n",
    "\n"
   ]
  }
 ],
 "metadata": {
  "kernelspec": {
   "display_name": "Python 3 (ipykernel)",
   "language": "python",
   "name": "python3"
  },
  "language_info": {
   "codemirror_mode": {
    "name": "ipython",
    "version": 3
   },
   "file_extension": ".py",
   "mimetype": "text/x-python",
   "name": "python",
   "nbconvert_exporter": "python",
   "pygments_lexer": "ipython3",
   "version": "3.10.9"
  },
  "toc": {
   "base_numbering": 1,
   "nav_menu": {},
   "number_sections": true,
   "sideBar": true,
   "skip_h1_title": true,
   "title_cell": "Table of Contents",
   "title_sidebar": "Contents",
   "toc_cell": false,
   "toc_position": {},
   "toc_section_display": true,
   "toc_window_display": false
  }
 },
 "nbformat": 4,
 "nbformat_minor": 5
}
