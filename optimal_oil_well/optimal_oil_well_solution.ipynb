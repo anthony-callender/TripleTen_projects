{
 "cells": [
  {
   "cell_type": "markdown",
   "id": "83b34f88-5067-43aa-b6bc-006063ea9979",
   "metadata": {},
   "source": [
    "# Goal: Find the best place for a new well"
   ]
  },
  {
   "cell_type": "markdown",
   "id": "869fc10e-2234-4c99-a45f-e712004aad9b",
   "metadata": {},
   "source": [
    "The main objective of the project is to determine the optimal region for developing new oil wells that will maximize potential profit while considering associated risks. This is achieved through a series of steps that involve data analysis, model training, profit calculations, and risk assessment. The project aims to identify the region that offers the highest average profit among the available options, while also ensuring that the risk of losses remains below a specified threshold (2.5%). By analyzing geological exploration data, building predictive models, and using statistical techniques like bootstrapping, the project aims to provide a data-driven recommendation for the region that presents the best balance between potential profit and acceptable risk."
   ]
  },
  {
   "cell_type": "markdown",
   "id": "3ee3f659-7d8e-4d3b-9e51-fb85f1c6f118",
   "metadata": {},
   "source": [
    "Steps to choose the location:\n",
    "\n",
    "* Collect the oil well parameters in the selected region: oil quality and volume of reserves;\n",
    "* Build a model for predicting the volume of reserves in the new wells;\n",
    "* Pick the oil wells with the highest estimated values;\n",
    "* Pick the region with the highest total profit for the selected oil wells."
   ]
  },
  {
   "cell_type": "markdown",
   "id": "b1178507-5a76-4d57-8753-137cae13719c",
   "metadata": {
    "tags": []
   },
   "source": [
    "## Data Preparation"
   ]
  },
  {
   "cell_type": "code",
   "execution_count": 1,
   "id": "99373338-43df-4351-bdf1-7d109c7808a3",
   "metadata": {},
   "outputs": [],
   "source": [
    "# Importing Libraries\n",
    "import pandas as pd\n",
    "import matplotlib.pyplot as plt\n",
    "import seaborn as sns\n",
    "import numpy as np\n",
    "from sklearn.model_selection import train_test_split\n",
    "from sklearn.preprocessing import StandardScaler\n",
    "from sklearn.linear_model import LinearRegression\n",
    "from sklearn.metrics import mean_squared_error\n",
    "from sklearn.metrics import r2_score\n",
    "from sklearn.metrics import mean_absolute_error"
   ]
  },
  {
   "cell_type": "code",
   "execution_count": 2,
   "id": "d10cda17-416b-44e8-9a68-fc781ff5156b",
   "metadata": {},
   "outputs": [],
   "source": [
    "# Reading Data\n",
    "region_1 = pd.read_csv('geo_data_0.csv')\n",
    "region_2 = pd.read_csv('geo_data_1.csv')\n",
    "region_3 = pd.read_csv('geo_data_2.csv')"
   ]
  },
  {
   "cell_type": "code",
   "execution_count": 3,
   "id": "34f32ede-eff8-48e0-9859-33724c429858",
   "metadata": {},
   "outputs": [
    {
     "data": {
      "text/html": [
       "<div>\n",
       "<style scoped>\n",
       "    .dataframe tbody tr th:only-of-type {\n",
       "        vertical-align: middle;\n",
       "    }\n",
       "\n",
       "    .dataframe tbody tr th {\n",
       "        vertical-align: top;\n",
       "    }\n",
       "\n",
       "    .dataframe thead th {\n",
       "        text-align: right;\n",
       "    }\n",
       "</style>\n",
       "<table border=\"1\" class=\"dataframe\">\n",
       "  <thead>\n",
       "    <tr style=\"text-align: right;\">\n",
       "      <th></th>\n",
       "      <th>id</th>\n",
       "      <th>f0</th>\n",
       "      <th>f1</th>\n",
       "      <th>f2</th>\n",
       "      <th>product</th>\n",
       "    </tr>\n",
       "  </thead>\n",
       "  <tbody>\n",
       "    <tr>\n",
       "      <th>0</th>\n",
       "      <td>txEyH</td>\n",
       "      <td>0.705745</td>\n",
       "      <td>-0.497823</td>\n",
       "      <td>1.221170</td>\n",
       "      <td>105.280062</td>\n",
       "    </tr>\n",
       "    <tr>\n",
       "      <th>1</th>\n",
       "      <td>2acmU</td>\n",
       "      <td>1.334711</td>\n",
       "      <td>-0.340164</td>\n",
       "      <td>4.365080</td>\n",
       "      <td>73.037750</td>\n",
       "    </tr>\n",
       "    <tr>\n",
       "      <th>2</th>\n",
       "      <td>409Wp</td>\n",
       "      <td>1.022732</td>\n",
       "      <td>0.151990</td>\n",
       "      <td>1.419926</td>\n",
       "      <td>85.265647</td>\n",
       "    </tr>\n",
       "    <tr>\n",
       "      <th>3</th>\n",
       "      <td>iJLyR</td>\n",
       "      <td>-0.032172</td>\n",
       "      <td>0.139033</td>\n",
       "      <td>2.978566</td>\n",
       "      <td>168.620776</td>\n",
       "    </tr>\n",
       "    <tr>\n",
       "      <th>4</th>\n",
       "      <td>Xdl7t</td>\n",
       "      <td>1.988431</td>\n",
       "      <td>0.155413</td>\n",
       "      <td>4.751769</td>\n",
       "      <td>154.036647</td>\n",
       "    </tr>\n",
       "  </tbody>\n",
       "</table>\n",
       "</div>"
      ],
      "text/plain": [
       "      id        f0        f1        f2     product\n",
       "0  txEyH  0.705745 -0.497823  1.221170  105.280062\n",
       "1  2acmU  1.334711 -0.340164  4.365080   73.037750\n",
       "2  409Wp  1.022732  0.151990  1.419926   85.265647\n",
       "3  iJLyR -0.032172  0.139033  2.978566  168.620776\n",
       "4  Xdl7t  1.988431  0.155413  4.751769  154.036647"
      ]
     },
     "execution_count": 3,
     "metadata": {},
     "output_type": "execute_result"
    }
   ],
   "source": [
    "region_1.head(5)"
   ]
  },
  {
   "cell_type": "code",
   "execution_count": 4,
   "id": "36afcf05-ddb6-4d29-85d8-8d683cbea8d6",
   "metadata": {},
   "outputs": [
    {
     "data": {
      "text/html": [
       "<div>\n",
       "<style scoped>\n",
       "    .dataframe tbody tr th:only-of-type {\n",
       "        vertical-align: middle;\n",
       "    }\n",
       "\n",
       "    .dataframe tbody tr th {\n",
       "        vertical-align: top;\n",
       "    }\n",
       "\n",
       "    .dataframe thead th {\n",
       "        text-align: right;\n",
       "    }\n",
       "</style>\n",
       "<table border=\"1\" class=\"dataframe\">\n",
       "  <thead>\n",
       "    <tr style=\"text-align: right;\">\n",
       "      <th></th>\n",
       "      <th>id</th>\n",
       "      <th>f0</th>\n",
       "      <th>f1</th>\n",
       "      <th>f2</th>\n",
       "      <th>product</th>\n",
       "    </tr>\n",
       "  </thead>\n",
       "  <tbody>\n",
       "    <tr>\n",
       "      <th>0</th>\n",
       "      <td>kBEdx</td>\n",
       "      <td>-15.001348</td>\n",
       "      <td>-8.276000</td>\n",
       "      <td>-0.005876</td>\n",
       "      <td>3.179103</td>\n",
       "    </tr>\n",
       "    <tr>\n",
       "      <th>1</th>\n",
       "      <td>62mP7</td>\n",
       "      <td>14.272088</td>\n",
       "      <td>-3.475083</td>\n",
       "      <td>0.999183</td>\n",
       "      <td>26.953261</td>\n",
       "    </tr>\n",
       "    <tr>\n",
       "      <th>2</th>\n",
       "      <td>vyE1P</td>\n",
       "      <td>6.263187</td>\n",
       "      <td>-5.948386</td>\n",
       "      <td>5.001160</td>\n",
       "      <td>134.766305</td>\n",
       "    </tr>\n",
       "    <tr>\n",
       "      <th>3</th>\n",
       "      <td>KcrkZ</td>\n",
       "      <td>-13.081196</td>\n",
       "      <td>-11.506057</td>\n",
       "      <td>4.999415</td>\n",
       "      <td>137.945408</td>\n",
       "    </tr>\n",
       "    <tr>\n",
       "      <th>4</th>\n",
       "      <td>AHL4O</td>\n",
       "      <td>12.702195</td>\n",
       "      <td>-8.147433</td>\n",
       "      <td>5.004363</td>\n",
       "      <td>134.766305</td>\n",
       "    </tr>\n",
       "  </tbody>\n",
       "</table>\n",
       "</div>"
      ],
      "text/plain": [
       "      id         f0         f1        f2     product\n",
       "0  kBEdx -15.001348  -8.276000 -0.005876    3.179103\n",
       "1  62mP7  14.272088  -3.475083  0.999183   26.953261\n",
       "2  vyE1P   6.263187  -5.948386  5.001160  134.766305\n",
       "3  KcrkZ -13.081196 -11.506057  4.999415  137.945408\n",
       "4  AHL4O  12.702195  -8.147433  5.004363  134.766305"
      ]
     },
     "execution_count": 4,
     "metadata": {},
     "output_type": "execute_result"
    }
   ],
   "source": [
    "region_2.head(5)"
   ]
  },
  {
   "cell_type": "code",
   "execution_count": 5,
   "id": "54c5f12f-1a46-47ed-8302-b01cf334c51c",
   "metadata": {},
   "outputs": [
    {
     "data": {
      "text/html": [
       "<div>\n",
       "<style scoped>\n",
       "    .dataframe tbody tr th:only-of-type {\n",
       "        vertical-align: middle;\n",
       "    }\n",
       "\n",
       "    .dataframe tbody tr th {\n",
       "        vertical-align: top;\n",
       "    }\n",
       "\n",
       "    .dataframe thead th {\n",
       "        text-align: right;\n",
       "    }\n",
       "</style>\n",
       "<table border=\"1\" class=\"dataframe\">\n",
       "  <thead>\n",
       "    <tr style=\"text-align: right;\">\n",
       "      <th></th>\n",
       "      <th>id</th>\n",
       "      <th>f0</th>\n",
       "      <th>f1</th>\n",
       "      <th>f2</th>\n",
       "      <th>product</th>\n",
       "    </tr>\n",
       "  </thead>\n",
       "  <tbody>\n",
       "    <tr>\n",
       "      <th>0</th>\n",
       "      <td>fwXo0</td>\n",
       "      <td>-1.146987</td>\n",
       "      <td>0.963328</td>\n",
       "      <td>-0.828965</td>\n",
       "      <td>27.758673</td>\n",
       "    </tr>\n",
       "    <tr>\n",
       "      <th>1</th>\n",
       "      <td>WJtFt</td>\n",
       "      <td>0.262778</td>\n",
       "      <td>0.269839</td>\n",
       "      <td>-2.530187</td>\n",
       "      <td>56.069697</td>\n",
       "    </tr>\n",
       "    <tr>\n",
       "      <th>2</th>\n",
       "      <td>ovLUW</td>\n",
       "      <td>0.194587</td>\n",
       "      <td>0.289035</td>\n",
       "      <td>-5.586433</td>\n",
       "      <td>62.871910</td>\n",
       "    </tr>\n",
       "    <tr>\n",
       "      <th>3</th>\n",
       "      <td>q6cA6</td>\n",
       "      <td>2.236060</td>\n",
       "      <td>-0.553760</td>\n",
       "      <td>0.930038</td>\n",
       "      <td>114.572842</td>\n",
       "    </tr>\n",
       "    <tr>\n",
       "      <th>4</th>\n",
       "      <td>WPMUX</td>\n",
       "      <td>-0.515993</td>\n",
       "      <td>1.716266</td>\n",
       "      <td>5.899011</td>\n",
       "      <td>149.600746</td>\n",
       "    </tr>\n",
       "  </tbody>\n",
       "</table>\n",
       "</div>"
      ],
      "text/plain": [
       "      id        f0        f1        f2     product\n",
       "0  fwXo0 -1.146987  0.963328 -0.828965   27.758673\n",
       "1  WJtFt  0.262778  0.269839 -2.530187   56.069697\n",
       "2  ovLUW  0.194587  0.289035 -5.586433   62.871910\n",
       "3  q6cA6  2.236060 -0.553760  0.930038  114.572842\n",
       "4  WPMUX -0.515993  1.716266  5.899011  149.600746"
      ]
     },
     "execution_count": 5,
     "metadata": {},
     "output_type": "execute_result"
    }
   ],
   "source": [
    "region_3.head(5)"
   ]
  },
  {
   "cell_type": "code",
   "execution_count": 6,
   "id": "711f5795-9e41-49cb-ace5-f50db8f8977a",
   "metadata": {},
   "outputs": [
    {
     "name": "stdout",
     "output_type": "stream",
     "text": [
      "<class 'pandas.core.frame.DataFrame'>\n",
      "RangeIndex: 100000 entries, 0 to 99999\n",
      "Data columns (total 5 columns):\n",
      " #   Column   Non-Null Count   Dtype  \n",
      "---  ------   --------------   -----  \n",
      " 0   id       100000 non-null  object \n",
      " 1   f0       100000 non-null  float64\n",
      " 2   f1       100000 non-null  float64\n",
      " 3   f2       100000 non-null  float64\n",
      " 4   product  100000 non-null  float64\n",
      "dtypes: float64(4), object(1)\n",
      "memory usage: 3.8+ MB\n"
     ]
    }
   ],
   "source": [
    "region_3.info()"
   ]
  },
  {
   "cell_type": "code",
   "execution_count": 7,
   "id": "2fbb86ca-a540-4102-8a72-68bb672ced8b",
   "metadata": {},
   "outputs": [
    {
     "name": "stdout",
     "output_type": "stream",
     "text": [
      "<class 'pandas.core.frame.DataFrame'>\n",
      "RangeIndex: 100000 entries, 0 to 99999\n",
      "Data columns (total 5 columns):\n",
      " #   Column   Non-Null Count   Dtype  \n",
      "---  ------   --------------   -----  \n",
      " 0   id       100000 non-null  object \n",
      " 1   f0       100000 non-null  float64\n",
      " 2   f1       100000 non-null  float64\n",
      " 3   f2       100000 non-null  float64\n",
      " 4   product  100000 non-null  float64\n",
      "dtypes: float64(4), object(1)\n",
      "memory usage: 3.8+ MB\n"
     ]
    }
   ],
   "source": [
    "region_2.info()"
   ]
  },
  {
   "cell_type": "code",
   "execution_count": 8,
   "id": "6e357c8a-ce99-4978-9d50-f0dcceb0a8d0",
   "metadata": {},
   "outputs": [
    {
     "name": "stdout",
     "output_type": "stream",
     "text": [
      "<class 'pandas.core.frame.DataFrame'>\n",
      "RangeIndex: 100000 entries, 0 to 99999\n",
      "Data columns (total 5 columns):\n",
      " #   Column   Non-Null Count   Dtype  \n",
      "---  ------   --------------   -----  \n",
      " 0   id       100000 non-null  object \n",
      " 1   f0       100000 non-null  float64\n",
      " 2   f1       100000 non-null  float64\n",
      " 3   f2       100000 non-null  float64\n",
      " 4   product  100000 non-null  float64\n",
      "dtypes: float64(4), object(1)\n",
      "memory usage: 3.8+ MB\n"
     ]
    }
   ],
   "source": [
    "region_1.info()"
   ]
  },
  {
   "cell_type": "code",
   "execution_count": 9,
   "id": "26748e48-959f-4dd9-b32c-0c7c7b8f0de0",
   "metadata": {},
   "outputs": [
    {
     "name": "stdout",
     "output_type": "stream",
     "text": [
      "Obvious Duplicates 0\n",
      "Column Duplicates 4\n"
     ]
    }
   ],
   "source": [
    "# Checking for duplicates\n",
    "print('Obvious Duplicates', region_3.duplicated().sum())\n",
    "print('Column Duplicates', region_3['id'].duplicated().sum())"
   ]
  },
  {
   "cell_type": "code",
   "execution_count": 10,
   "id": "8e9f3c93-b6ca-43c2-aa6f-45a6f4c2e610",
   "metadata": {},
   "outputs": [
    {
     "name": "stdout",
     "output_type": "stream",
     "text": [
      "Obvious Duplicates 0\n",
      "Column Duplicates 4\n"
     ]
    }
   ],
   "source": [
    "# Checking for duplicates\n",
    "print('Obvious Duplicates', region_2.duplicated().sum())\n",
    "print('Column Duplicates', region_2['id'].duplicated().sum())"
   ]
  },
  {
   "cell_type": "code",
   "execution_count": 11,
   "id": "8e6d54f7-fc09-411d-a760-e83536b98d64",
   "metadata": {},
   "outputs": [
    {
     "name": "stdout",
     "output_type": "stream",
     "text": [
      "Obvious Duplicates 0\n",
      "Column Duplicates 10\n"
     ]
    }
   ],
   "source": [
    "# Checking for duplicates\n",
    "print('Obvious Duplicates', region_1.duplicated().sum())\n",
    "print('Column Duplicates', region_1['id'].duplicated().sum())"
   ]
  },
  {
   "cell_type": "code",
   "execution_count": 12,
   "id": "93c93ede-2122-4ff8-a298-4737c476504f",
   "metadata": {},
   "outputs": [
    {
     "data": {
      "text/html": [
       "<div>\n",
       "<style scoped>\n",
       "    .dataframe tbody tr th:only-of-type {\n",
       "        vertical-align: middle;\n",
       "    }\n",
       "\n",
       "    .dataframe tbody tr th {\n",
       "        vertical-align: top;\n",
       "    }\n",
       "\n",
       "    .dataframe thead th {\n",
       "        text-align: right;\n",
       "    }\n",
       "</style>\n",
       "<table border=\"1\" class=\"dataframe\">\n",
       "  <thead>\n",
       "    <tr style=\"text-align: right;\">\n",
       "      <th></th>\n",
       "      <th>id</th>\n",
       "      <th>f0</th>\n",
       "      <th>f1</th>\n",
       "      <th>f2</th>\n",
       "      <th>product</th>\n",
       "    </tr>\n",
       "  </thead>\n",
       "  <tbody>\n",
       "    <tr>\n",
       "      <th>43233</th>\n",
       "      <td>xCHr8</td>\n",
       "      <td>-0.847066</td>\n",
       "      <td>2.101796</td>\n",
       "      <td>5.597130</td>\n",
       "      <td>184.388641</td>\n",
       "    </tr>\n",
       "    <tr>\n",
       "      <th>49564</th>\n",
       "      <td>VF7Jo</td>\n",
       "      <td>-0.883115</td>\n",
       "      <td>0.560537</td>\n",
       "      <td>0.723601</td>\n",
       "      <td>136.233420</td>\n",
       "    </tr>\n",
       "    <tr>\n",
       "      <th>55967</th>\n",
       "      <td>KUPhW</td>\n",
       "      <td>1.211150</td>\n",
       "      <td>3.176408</td>\n",
       "      <td>5.543540</td>\n",
       "      <td>132.831802</td>\n",
       "    </tr>\n",
       "    <tr>\n",
       "      <th>95090</th>\n",
       "      <td>Vcm5J</td>\n",
       "      <td>2.587702</td>\n",
       "      <td>1.986875</td>\n",
       "      <td>2.482245</td>\n",
       "      <td>92.327572</td>\n",
       "    </tr>\n",
       "  </tbody>\n",
       "</table>\n",
       "</div>"
      ],
      "text/plain": [
       "          id        f0        f1        f2     product\n",
       "43233  xCHr8 -0.847066  2.101796  5.597130  184.388641\n",
       "49564  VF7Jo -0.883115  0.560537  0.723601  136.233420\n",
       "55967  KUPhW  1.211150  3.176408  5.543540  132.831802\n",
       "95090  Vcm5J  2.587702  1.986875  2.482245   92.327572"
      ]
     },
     "execution_count": 12,
     "metadata": {},
     "output_type": "execute_result"
    }
   ],
   "source": [
    "# Understanding duplicates\n",
    "region_3[region_3['id'].duplicated()]"
   ]
  },
  {
   "cell_type": "code",
   "execution_count": 13,
   "id": "3d36f59f-deec-424b-afc6-094aea0b16c5",
   "metadata": {},
   "outputs": [
    {
     "data": {
      "text/html": [
       "<div>\n",
       "<style scoped>\n",
       "    .dataframe tbody tr th:only-of-type {\n",
       "        vertical-align: middle;\n",
       "    }\n",
       "\n",
       "    .dataframe tbody tr th {\n",
       "        vertical-align: top;\n",
       "    }\n",
       "\n",
       "    .dataframe thead th {\n",
       "        text-align: right;\n",
       "    }\n",
       "</style>\n",
       "<table border=\"1\" class=\"dataframe\">\n",
       "  <thead>\n",
       "    <tr style=\"text-align: right;\">\n",
       "      <th></th>\n",
       "      <th>id</th>\n",
       "      <th>f0</th>\n",
       "      <th>f1</th>\n",
       "      <th>f2</th>\n",
       "      <th>product</th>\n",
       "    </tr>\n",
       "  </thead>\n",
       "  <tbody>\n",
       "    <tr>\n",
       "      <th>41906</th>\n",
       "      <td>LHZR0</td>\n",
       "      <td>-8.989672</td>\n",
       "      <td>-4.286607</td>\n",
       "      <td>2.009139</td>\n",
       "      <td>57.085625</td>\n",
       "    </tr>\n",
       "    <tr>\n",
       "      <th>82178</th>\n",
       "      <td>bfPNe</td>\n",
       "      <td>-6.202799</td>\n",
       "      <td>-4.820045</td>\n",
       "      <td>2.995107</td>\n",
       "      <td>84.038886</td>\n",
       "    </tr>\n",
       "    <tr>\n",
       "      <th>82873</th>\n",
       "      <td>wt4Uk</td>\n",
       "      <td>10.259972</td>\n",
       "      <td>-9.376355</td>\n",
       "      <td>4.994297</td>\n",
       "      <td>134.766305</td>\n",
       "    </tr>\n",
       "    <tr>\n",
       "      <th>84461</th>\n",
       "      <td>5ltQ6</td>\n",
       "      <td>18.213839</td>\n",
       "      <td>2.191999</td>\n",
       "      <td>3.993869</td>\n",
       "      <td>107.813044</td>\n",
       "    </tr>\n",
       "  </tbody>\n",
       "</table>\n",
       "</div>"
      ],
      "text/plain": [
       "          id         f0        f1        f2     product\n",
       "41906  LHZR0  -8.989672 -4.286607  2.009139   57.085625\n",
       "82178  bfPNe  -6.202799 -4.820045  2.995107   84.038886\n",
       "82873  wt4Uk  10.259972 -9.376355  4.994297  134.766305\n",
       "84461  5ltQ6  18.213839  2.191999  3.993869  107.813044"
      ]
     },
     "execution_count": 13,
     "metadata": {},
     "output_type": "execute_result"
    }
   ],
   "source": [
    "# Understanding duplicates\n",
    "region_2[region_2['id'].duplicated()]"
   ]
  },
  {
   "cell_type": "code",
   "execution_count": 14,
   "id": "44d6cdcf-39ae-43c4-9258-4884f277d653",
   "metadata": {},
   "outputs": [
    {
     "data": {
      "text/html": [
       "<div>\n",
       "<style scoped>\n",
       "    .dataframe tbody tr th:only-of-type {\n",
       "        vertical-align: middle;\n",
       "    }\n",
       "\n",
       "    .dataframe tbody tr th {\n",
       "        vertical-align: top;\n",
       "    }\n",
       "\n",
       "    .dataframe thead th {\n",
       "        text-align: right;\n",
       "    }\n",
       "</style>\n",
       "<table border=\"1\" class=\"dataframe\">\n",
       "  <thead>\n",
       "    <tr style=\"text-align: right;\">\n",
       "      <th></th>\n",
       "      <th>id</th>\n",
       "      <th>f0</th>\n",
       "      <th>f1</th>\n",
       "      <th>f2</th>\n",
       "      <th>product</th>\n",
       "    </tr>\n",
       "  </thead>\n",
       "  <tbody>\n",
       "    <tr>\n",
       "      <th>7530</th>\n",
       "      <td>HZww2</td>\n",
       "      <td>1.061194</td>\n",
       "      <td>-0.373969</td>\n",
       "      <td>10.430210</td>\n",
       "      <td>158.828695</td>\n",
       "    </tr>\n",
       "    <tr>\n",
       "      <th>41724</th>\n",
       "      <td>bxg6G</td>\n",
       "      <td>-0.823752</td>\n",
       "      <td>0.546319</td>\n",
       "      <td>3.630479</td>\n",
       "      <td>93.007798</td>\n",
       "    </tr>\n",
       "    <tr>\n",
       "      <th>51970</th>\n",
       "      <td>A5aEY</td>\n",
       "      <td>-0.180335</td>\n",
       "      <td>0.935548</td>\n",
       "      <td>-2.094773</td>\n",
       "      <td>33.020205</td>\n",
       "    </tr>\n",
       "    <tr>\n",
       "      <th>63593</th>\n",
       "      <td>QcMuo</td>\n",
       "      <td>0.635635</td>\n",
       "      <td>-0.473422</td>\n",
       "      <td>0.862670</td>\n",
       "      <td>64.578675</td>\n",
       "    </tr>\n",
       "    <tr>\n",
       "      <th>66136</th>\n",
       "      <td>74z30</td>\n",
       "      <td>1.084962</td>\n",
       "      <td>-0.312358</td>\n",
       "      <td>6.990771</td>\n",
       "      <td>127.643327</td>\n",
       "    </tr>\n",
       "    <tr>\n",
       "      <th>69163</th>\n",
       "      <td>AGS9W</td>\n",
       "      <td>-0.933795</td>\n",
       "      <td>0.116194</td>\n",
       "      <td>-3.655896</td>\n",
       "      <td>19.230453</td>\n",
       "    </tr>\n",
       "    <tr>\n",
       "      <th>75715</th>\n",
       "      <td>Tdehs</td>\n",
       "      <td>0.112079</td>\n",
       "      <td>0.430296</td>\n",
       "      <td>3.218993</td>\n",
       "      <td>60.964018</td>\n",
       "    </tr>\n",
       "    <tr>\n",
       "      <th>90815</th>\n",
       "      <td>fiKDv</td>\n",
       "      <td>0.049883</td>\n",
       "      <td>0.841313</td>\n",
       "      <td>6.394613</td>\n",
       "      <td>137.346586</td>\n",
       "    </tr>\n",
       "    <tr>\n",
       "      <th>92341</th>\n",
       "      <td>TtcGQ</td>\n",
       "      <td>0.110711</td>\n",
       "      <td>1.022689</td>\n",
       "      <td>0.911381</td>\n",
       "      <td>101.318008</td>\n",
       "    </tr>\n",
       "    <tr>\n",
       "      <th>97785</th>\n",
       "      <td>bsk9y</td>\n",
       "      <td>0.378429</td>\n",
       "      <td>0.005837</td>\n",
       "      <td>0.160827</td>\n",
       "      <td>160.637302</td>\n",
       "    </tr>\n",
       "  </tbody>\n",
       "</table>\n",
       "</div>"
      ],
      "text/plain": [
       "          id        f0        f1         f2     product\n",
       "7530   HZww2  1.061194 -0.373969  10.430210  158.828695\n",
       "41724  bxg6G -0.823752  0.546319   3.630479   93.007798\n",
       "51970  A5aEY -0.180335  0.935548  -2.094773   33.020205\n",
       "63593  QcMuo  0.635635 -0.473422   0.862670   64.578675\n",
       "66136  74z30  1.084962 -0.312358   6.990771  127.643327\n",
       "69163  AGS9W -0.933795  0.116194  -3.655896   19.230453\n",
       "75715  Tdehs  0.112079  0.430296   3.218993   60.964018\n",
       "90815  fiKDv  0.049883  0.841313   6.394613  137.346586\n",
       "92341  TtcGQ  0.110711  1.022689   0.911381  101.318008\n",
       "97785  bsk9y  0.378429  0.005837   0.160827  160.637302"
      ]
     },
     "execution_count": 14,
     "metadata": {},
     "output_type": "execute_result"
    }
   ],
   "source": [
    "# Understanding duplicates\n",
    "region_1[region_1['id'].duplicated()]"
   ]
  },
  {
   "cell_type": "markdown",
   "id": "f25f4a63-a16b-43fd-bc29-afa87479e994",
   "metadata": {},
   "source": [
    "Duplicates on the 'id' column show that the id's for different oil wells were used and requiere modification.\n",
    "\n",
    "As shown above, there isn't a significant amount of duplicates. Therefore, there is no need to remove them."
   ]
  },
  {
   "cell_type": "markdown",
   "id": "e203ebb0-22c9-497b-a198-e748847fffd3",
   "metadata": {
    "tags": []
   },
   "source": [
    "## Data Preprocessing\n",
    "\n"
   ]
  },
  {
   "cell_type": "code",
   "execution_count": 15,
   "id": "b6895fd2-549a-4fe6-b14e-b3951dfa1e60",
   "metadata": {},
   "outputs": [],
   "source": [
    "# Assign the 'product' column of region_1 to the 'target' variable\n",
    "target = region_1['product']\n",
    "\n",
    "# Drop 'product' and 'id' columns from region_1 and assign the resulting DataFrame to 'features'\n",
    "features = region_1.drop(['product', 'id'], axis=1)\n",
    "\n",
    "# Split the features and target data into training and validation sets using train_test_split\n",
    "# 25% of the data will be used for validation, setting a random state for reproducibility\n",
    "features_train, features_valid, target_train, target_valid = train_test_split(\n",
    "    features, target, test_size=0.25, random_state=12345)\n",
    "\n",
    "# Define a list of column names representing numeric features\n",
    "numeric = ['f0', 'f1', 'f2']\n",
    "\n",
    "# Initialize a StandardScaler to standardize the numeric features\n",
    "scaler = StandardScaler()\n",
    "\n",
    "# Fit the scaler to the numeric features in the training set\n",
    "scaler.fit(features_train[numeric])\n",
    "\n",
    "# Transform (standardize) the numeric features in the training and validation sets using the fitted scaler\n",
    "features_train[numeric] = scaler.transform(features_train[numeric])\n",
    "features_valid[numeric] = scaler.transform(features_valid[numeric])\n"
   ]
  },
  {
   "cell_type": "code",
   "execution_count": 16,
   "id": "4b6f7c72-460b-453c-8f7b-f00824a3770b",
   "metadata": {},
   "outputs": [],
   "source": [
    "# Extract the 'product' column from region_2 and assign it to the variable 'target2'\n",
    "target2 = region_2['product']\n",
    "\n",
    "# Remove the 'product' and 'id' columns from region_2 and store the resulting DataFrame in 'features2'\n",
    "features2 = region_2.drop(['product', 'id'], axis=1)\n",
    "\n",
    "# Split the features and target data of region_2 into training and validation sets\n",
    "# The split ratio is 75% for training and 25% for validation, with a specified random state\n",
    "features_train2, features_valid2, target_train2, target_valid2 = train_test_split(\n",
    "    features2, target2, test_size=0.25, random_state=1235)\n",
    "\n",
    "# Define a list of column names representing numeric features in region_2\n",
    "numeric2 = ['f0', 'f1', 'f2']\n",
    "\n",
    "# Initialize a StandardScaler object to scale the numeric features in region_2\n",
    "scaler2 = StandardScaler()\n",
    "\n",
    "# Fit the scaler to the numeric features in the training set of region_2\n",
    "scaler2.fit(features_train2[numeric2])\n",
    "\n",
    "# Standardize the numeric features in both the training and validation sets using the fitted scaler2\n",
    "features_train2[numeric2] = scaler2.transform(features_train2[numeric2])\n",
    "features_valid2[numeric2] = scaler2.transform(features_valid2[numeric2])\n"
   ]
  },
  {
   "cell_type": "code",
   "execution_count": 17,
   "id": "96c5e4f3-692a-4137-8b6f-7493580ce8cf",
   "metadata": {},
   "outputs": [],
   "source": [
    "# Extract the 'product' column from region_3 and assign it to the variable 'target3'\n",
    "target3 = region_3['product']\n",
    "\n",
    "# Remove the 'product' and 'id' columns from region_3 and store the resulting DataFrame in 'features3'\n",
    "features3 = region_3.drop(['product', 'id'], axis=1)\n",
    "\n",
    "# Split the features and target data of region_3 into training and validation sets\n",
    "# Using a 75% - 25% split for training and validation, respectively, with a specific random state\n",
    "features_train3, features_valid3, target_train3, target_valid3 = train_test_split(\n",
    "    features3, target3, test_size=0.25, random_state=123)\n",
    "\n",
    "# Define a list of column names representing numeric features in region_3\n",
    "numeric3 = ['f0', 'f1', 'f2']\n",
    "\n",
    "# Initialize a StandardScaler object to scale the numeric features in region_3\n",
    "scaler3 = StandardScaler()\n",
    "\n",
    "# Fit the scaler to the numeric features in the training set of region_3\n",
    "scaler3.fit(features_train3[numeric3])\n",
    "\n",
    "# Standardize the numeric features in both the training and validation sets using the fitted scaler3\n",
    "features_train3[numeric3] = scaler3.transform(features_train3[numeric3])\n",
    "features_valid3[numeric3] = scaler3.transform(features_valid3[numeric3])"
   ]
  },
  {
   "cell_type": "markdown",
   "id": "46012503-e7d6-4532-84d5-bb81f68781f0",
   "metadata": {
    "tags": []
   },
   "source": [
    "## Modeling"
   ]
  },
  {
   "cell_type": "code",
   "execution_count": 18,
   "id": "41b808f7-137a-4743-8e94-502b1b2e530b",
   "metadata": {},
   "outputs": [],
   "source": [
    "# Instantiate a LinearRegression model\n",
    "model = LinearRegression()\n",
    "\n",
    "# Fit the LinearRegression model using the training features and target data\n",
    "model.fit(features_train, target_train)\n",
    "\n",
    "# Make predictions on the validation set using the trained model\n",
    "predicted_valid = model.predict(features_valid)\n",
    "\n",
    "# Calculate the mean squared error (MSE) by comparing the predicted values with the actual validation target values\n",
    "mse = mean_squared_error(target_valid, predicted_valid)\n",
    "\n",
    "# Create a pandas Series containing the median of the target_train values, indexed similarly to target_valid\n",
    "predicted_valid_median = pd.Series(target_train.median(), index=target_valid.index)"
   ]
  },
  {
   "cell_type": "code",
   "execution_count": 19,
   "id": "5988e369-d4e3-4bc1-a7b5-8523ab31024a",
   "metadata": {},
   "outputs": [],
   "source": [
    "# Instantiate a LinearRegression model (model_2)\n",
    "model_2 = LinearRegression()\n",
    "\n",
    "# Train the LinearRegression model using features_train2 and target_train2\n",
    "model_2.fit(features_train2, target_train2)\n",
    "\n",
    "# Generate predictions on the validation set (features_valid2) using the trained model_2\n",
    "predicted_valid2 = model_2.predict(features_valid2)\n",
    "\n",
    "# Calculate the mean squared error (MSE2) by comparing predicted_valid2 with target_valid2\n",
    "mse2 = mean_squared_error(target_valid2, predicted_valid2)\n",
    "\n",
    "# Create a pandas Series containing the median of the target_train2 values, indexed similarly to target_valid2\n",
    "predicted_valid_median2 = pd.Series(target_train2.median(), index=target_valid2.index)"
   ]
  },
  {
   "cell_type": "code",
   "execution_count": 20,
   "id": "a7739646-542a-4304-80b4-026ee389d628",
   "metadata": {},
   "outputs": [],
   "source": [
    "# Instantiate a LinearRegression model (model_3)\n",
    "model_3 = LinearRegression()\n",
    "\n",
    "# Train the LinearRegression model using features_train3 and target_train3\n",
    "model_3.fit(features_train3, target_train3)\n",
    "\n",
    "# Generate predictions on the validation set (features_valid3) using the trained model_3\n",
    "predicted_valid3 = model_3.predict(features_valid3)\n",
    "\n",
    "# Calculate the mean squared error (MSE3) by comparing predicted_valid3 with target_valid3\n",
    "mse3 = mean_squared_error(target_valid3, predicted_valid3)\n",
    "\n",
    "# Create a pandas Series containing the median of the target_train3 values, indexed similarly to target_valid3\n",
    "predicted_valid_median3 = pd.Series(target_train3.median(), index=target_valid3.index)"
   ]
  },
  {
   "cell_type": "markdown",
   "id": "04589373-e6a7-401f-a648-05e087f7f643",
   "metadata": {
    "tags": []
   },
   "source": [
    "## Analysis For Each Region"
   ]
  },
  {
   "cell_type": "code",
   "execution_count": 21,
   "id": "3a0f3adc-d274-4dce-808f-06f0e9fe4cc4",
   "metadata": {},
   "outputs": [
    {
     "name": "stdout",
     "output_type": "stream",
     "text": [
      "REGION 1\n",
      "\n",
      "MSE 1412.2129364399243\n",
      "RMSE 37.5794217150813\n",
      "Average Volume of Predicted Reserves 92.59256778438035\n",
      "\n",
      "R2 = 0.27994321524487786\n",
      "Linear Regression: 30.919600777151313\n",
      "Median: 37.67178003955267\n"
     ]
    }
   ],
   "source": [
    "print('REGION 1')\n",
    "print()\n",
    "print('MSE', mse)\n",
    "print('RMSE', mse**0.5)\n",
    "print('Average Volume of Predicted Reserves', predicted_valid.mean())\n",
    "print()\n",
    "print('R2 =', r2_score(target_valid, predicted_valid))\n",
    "print('Linear Regression:', mean_absolute_error(target_valid, predicted_valid))\n",
    "print('Median:', mean_absolute_error(target_valid, predicted_valid_median))"
   ]
  },
  {
   "cell_type": "code",
   "execution_count": 22,
   "id": "2a889a38-77e2-4a11-9b71-9e5e3ea715c3",
   "metadata": {},
   "outputs": [
    {
     "name": "stdout",
     "output_type": "stream",
     "text": [
      "REGION 2\n",
      "\n",
      "MSE 0.7993178711189037\n",
      "RMSE 0.8940457880438248\n",
      "Average Volume of Predicted Reserves 68.85411912384775\n",
      "\n",
      "R2 = 0.9996207667316822\n",
      "Linear Regression: 0.7207740498765781\n",
      "Median: 40.26518086025505\n"
     ]
    }
   ],
   "source": [
    "print('REGION 2')\n",
    "print()\n",
    "print('MSE', mse2)\n",
    "print('RMSE', mse2**0.5)\n",
    "print('Average Volume of Predicted Reserves', predicted_valid2.mean())\n",
    "print()\n",
    "print('R2 =', r2_score(target_valid2, predicted_valid2))\n",
    "print('Linear Regression:', mean_absolute_error(target_valid2, predicted_valid2))\n",
    "print('Median:', mean_absolute_error(target_valid2, predicted_valid_median2))"
   ]
  },
  {
   "cell_type": "code",
   "execution_count": 23,
   "id": "f7935e9c-2262-453f-9b82-cd4bce9f485b",
   "metadata": {},
   "outputs": [
    {
     "name": "stdout",
     "output_type": "stream",
     "text": [
      "REGION 3\n",
      "\n",
      "MSE 1610.2587969766078\n",
      "RMSE 40.12803006598514\n",
      "Average Volume of Predicted Reserves 95.09859933591373\n",
      "\n",
      "R2 = 0.19313657905573023\n",
      "Linear Regression: 32.80763017044863\n",
      "Median: 37.743284150615594\n"
     ]
    }
   ],
   "source": [
    "print('REGION 3')\n",
    "print()\n",
    "print('MSE', mse3)\n",
    "print('RMSE', mse3**0.5)\n",
    "print('Average Volume of Predicted Reserves', predicted_valid3.mean())\n",
    "print()\n",
    "print('R2 =', r2_score(target_valid3, predicted_valid3))\n",
    "print('Linear Regression:', mean_absolute_error(target_valid3, predicted_valid3))\n",
    "print('Median:', mean_absolute_error(target_valid3, predicted_valid_median3))"
   ]
  },
  {
   "cell_type": "markdown",
   "id": "269efb37-8379-4b9a-844b-0f36e9dfe4fc",
   "metadata": {
    "tags": []
   },
   "source": [
    "## Profit Calculation"
   ]
  },
  {
   "cell_type": "markdown",
   "id": "9771b31c-119d-402a-9952-4852966e0c73",
   "metadata": {},
   "source": [
    "The volume of reserves needed for developing a new well without losses. Comparison of the obtained values with the average volume of reserves in each region."
   ]
  },
  {
   "cell_type": "markdown",
   "id": "7c99c371-429c-4f25-9b29-67a21cdb7eee",
   "metadata": {},
   "source": [
    "* Budget for Developing Oil Wells: We have a budget of 100 million US dollars to develop 200 new oil wells.\n",
    "\n",
    "* Revenue from Raw Materials: When we extract one barrel of oil, it brings in 4.5 US dollars in revenue.\n",
    "\n",
    "* Revenue from Product Units: Each unit of the product we produce (measured in thousand barrels) brings in 4,500 US dollars in revenue.\n",
    "\n",
    "* Managing Risk: After evaluating the risks, we decide to only consider regions where the risk of financial losses is less than 2.5%. Among these safe regions, we'll choose the one that can give us the highest average profit."
   ]
  },
  {
   "cell_type": "markdown",
   "id": "9de187dc-cb8f-47ce-ae66-db8e6a79b3ff",
   "metadata": {},
   "source": [
    "product — volume of reserves in the oil well (thousand barrels)."
   ]
  },
  {
   "cell_type": "code",
   "execution_count": 24,
   "id": "f0dcaf05-4e55-4906-b03a-c0fb69d4d61a",
   "metadata": {},
   "outputs": [
    {
     "name": "stdout",
     "output_type": "stream",
     "text": [
      "Volume of reserves needed for development without losses: 111.11111111111111 thousand barrels\n"
     ]
    }
   ],
   "source": [
    "budget = 100000000  # Budget in million USD\n",
    "revenue_per_unit = 4500  # Revenue per unit of product in USD\n",
    "number_oil_wells = 200\n",
    "\n",
    "# Calculate the volume of reserves in thousand barrels needed to cover the budget\n",
    "volume_needed = (budget/number_oil_wells)/revenue_per_unit\n",
    "\n",
    "print(f\"Volume of reserves needed for development without losses: {volume_needed} thousand barrels\")\n"
   ]
  },
  {
   "cell_type": "code",
   "execution_count": 25,
   "id": "6e9218cf-b0c1-4137-9f52-e711b044ba8a",
   "metadata": {},
   "outputs": [
    {
     "name": "stdout",
     "output_type": "stream",
     "text": [
      "Volume needed vs. Average volume in Region 1: 111.11111111111111 vs. 92.50000000000001\n",
      "Volume needed vs. Average volume in Region 2: 111.11111111111111 vs. 68.82500000000002\n",
      "Volume needed vs. Average volume in Region 3: 111.11111111111111 vs. 95.00000000000004\n"
     ]
    }
   ],
   "source": [
    "average_volume_region1 = region_1['product'].mean()\n",
    "average_volume_region2 = region_2['product'].mean()\n",
    "average_volume_region3 = region_3['product'].mean()\n",
    "\n",
    "# Compare the volume needed for development without losses with the averages\n",
    "print(f\"Volume needed vs. Average volume in Region 1: {volume_needed} vs. {average_volume_region1}\")\n",
    "print(f\"Volume needed vs. Average volume in Region 2: {volume_needed} vs. {average_volume_region2}\")\n",
    "print(f\"Volume needed vs. Average volume in Region 3: {volume_needed} vs. {average_volume_region3}\")\n"
   ]
  },
  {
   "cell_type": "markdown",
   "id": "01e35c84-13f1-4e26-8532-73a7980772da",
   "metadata": {},
   "source": [
    "The results indicate a comparison between the volume of reserves needed per well for development without losses (calculated as 111.11111111111111 thousand barrels) and the average volume of reserves in each of the three regions. Here are the findings based on this comparison for the preparation of the profit calculation step:\n",
    "\n",
    "Region 1: The calculated volume needed for development without losses (111.11111111111111 thousand barrels) is slightly higher than the average volume of reserves in Region 1 (92.50000000000001 thousand barrels). This suggests that, on average, the existing reserves in Region 1 might not be sufficient to cover the budget for developing new wells without incurring losses.\n",
    "\n",
    "Region 2: Similarly, the calculated volume needed for development without losses (111.11111111111111 thousand barrels) is significantly higher than the average volume of reserves in Region 2 (68.82500000000002 thousand barrels). This implies that the existing reserves in Region 2 might also fall short of covering the budget for development without losses.\n",
    "\n",
    "Region 3: The calculated volume needed for development without losses (111.11111111111111 thousand barrels) is higher than the average volume of reserves in Region 3 (95.00000000000004 thousand barrels). While Region 3's average volume of reserves is closer to the calculated value, it still might not fully cover the budget for development without losses.\n",
    "\n",
    "Overall, these findings suggest that the existing average reserves in all three regions are generally insufficient to fully cover the budget for developing new wells without incurring losses. "
   ]
  },
  {
   "cell_type": "code",
   "execution_count": 26,
   "id": "30af2e1c-6d6f-475e-8158-b8303c151e6f",
   "metadata": {},
   "outputs": [],
   "source": [
    "# Convert 'target_valid' series and its indices into a DataFrame\n",
    "target_valid_df = target_valid.reset_index()\n",
    "\n",
    "# Rename the columns to 'index' and 'target_valid'\n",
    "target_valid_df.columns = ['index', 'target_valid']\n",
    "\n",
    "# Convert 'predicted_valid' array into DataFrames\n",
    "predicted_valid_df = pd.DataFrame({'predicted_valid': predicted_valid})\n",
    "\n",
    "# Merge the two DataFrames based on their indices\n",
    "merged_df = pd.concat([target_valid_df, predicted_valid_df], axis=1)\n",
    "\n",
    "# Rename the columns to 'index' and 'target_valid'\n",
    "region_1_temp = region_1.reset_index()\n",
    "\n",
    "# Merge the 'region_1_reset' DataFrame with the 'target_valid_df' DataFrame\n",
    "final_region_1 = pd.merge(region_1_temp, merged_df, left_on='index', right_on='index').drop(['product','index'], axis=1)"
   ]
  },
  {
   "cell_type": "code",
   "execution_count": 27,
   "id": "d37ef034-b4fd-437b-a5a1-be290f8a9b37",
   "metadata": {},
   "outputs": [],
   "source": [
    "# Convert 'target_valid' series and its indices into a DataFrame\n",
    "target_valid_df2 = target_valid2.reset_index()\n",
    "\n",
    "# Rename the columns to 'index' and 'target_valid'\n",
    "target_valid_df2.columns = ['index', 'target_valid']\n",
    "\n",
    "# Convert 'predicted_valid' array into DataFrames\n",
    "predicted_valid_df2 = pd.DataFrame({'predicted_valid': predicted_valid2})\n",
    "\n",
    "# Merge the two DataFrames based on their indices\n",
    "merged_df2 = pd.concat([target_valid_df2, predicted_valid_df2], axis=1)\n",
    "\n",
    "# Rename the columns to 'index' and 'target_valid'\n",
    "region_2_temp = region_2.reset_index()\n",
    "\n",
    "# Merge the 'region_2_reset' DataFrame with the 'target_valid_df' DataFrame\n",
    "final_region_2 = pd.merge(region_2_temp, merged_df2, left_on='index', right_on='index').drop(['product','index'], axis=1)"
   ]
  },
  {
   "cell_type": "code",
   "execution_count": 28,
   "id": "f0bfe2ea-5c3c-46cb-87cb-7c7d212daca3",
   "metadata": {},
   "outputs": [],
   "source": [
    "# Convert 'target_valid' series and its indices into a DataFrame\n",
    "target_valid_df3 = target_valid3.reset_index()\n",
    "\n",
    "# Rename the columns to 'index' and 'target_valid'\n",
    "target_valid_df3.columns = ['index', 'target_valid']\n",
    "\n",
    "# Convert 'predicted_valid' array into DataFrames\n",
    "predicted_valid_df3 = pd.DataFrame({'predicted_valid': predicted_valid3})\n",
    "\n",
    "# Merge the two DataFrames based on their indices\n",
    "merged_df3 = pd.concat([target_valid_df3, predicted_valid_df3], axis=1)\n",
    "\n",
    "# Rename the columns to 'index' and 'target_valid'\n",
    "region_3_temp = region_3.reset_index()\n",
    "\n",
    "# Merge the 'region_3_reset' DataFrame with the 'target_valid_df' DataFrame\n",
    "final_region_3 = pd.merge(region_3_temp, merged_df3, left_on='index', right_on='index').drop(['product'], axis=1)"
   ]
  },
  {
   "cell_type": "markdown",
   "id": "68188da3-d77a-4ac6-9af1-afebce97a0ee",
   "metadata": {
    "tags": []
   },
   "source": [
    "## Calculate risks and profit for each region:\n",
    "* Use the bootstrapping technique with 1000 samples to find the distribution of profit.\n",
    "\n",
    "* Find average profit, 95% confidence interval and risk of losses. Loss is negative profit, calculate it as a probability and then express as a percentage.\n",
    "\n",
    "* Provide findings: suggest a region for development of oil wells and justify the choice."
   ]
  },
  {
   "cell_type": "code",
   "execution_count": 29,
   "id": "d8390b37",
   "metadata": {},
   "outputs": [],
   "source": [
    "def calculate_profit(predictions, targets, budget, revenue_per_unit):\n",
    "    # Sort the predictions and select the top 200 wells\n",
    "    sorted_indices = np.argsort(predictions)[::-1]\n",
    "    selected_indices = sorted_indices[:200]\n",
    "    \n",
    "    # Calculate the total volume of reserves for the selected wells\n",
    "    total_reserves = np.sum(targets[selected_indices])\n",
    "    \n",
    "    # Calculate the total revenue and total cost\n",
    "    total_revenue = total_reserves * revenue_per_unit\n",
    "    total_cost = budget\n",
    "    \n",
    "    # Calculate the profit (revenue - cost)\n",
    "    profit = total_revenue - total_cost\n",
    "    \n",
    "    return profit"
   ]
  },
  {
   "cell_type": "code",
   "execution_count": 30,
   "id": "adfd6d5e",
   "metadata": {},
   "outputs": [],
   "source": [
    "def bootstrap_results(region, num_samples):\n",
    "    \n",
    "    profits = []\n",
    "    \n",
    "    np.random.seed(42)\n",
    "    \n",
    "    predictions = region['predicted_valid']\n",
    "    targets = region['target_valid']\n",
    "    \n",
    "    # Bootstrap process\n",
    "    for _ in range(num_samples):\n",
    "        # Sample 500 wells randomly with replacement\n",
    "        sampled_data = pd.DataFrame({'predictions': predictions, 'targets': targets})\n",
    "        sampled_data = sampled_data.sample(n=500, replace=True)\n",
    "        sampled_predictions = sampled_data['predictions'].values\n",
    "        sampled_targets = sampled_data['targets'].values\n",
    "        \n",
    "        # Calculate profit for the sampled wells\n",
    "        profit = calculate_profit(sampled_predictions, sampled_targets, budget, revenue_per_unit)\n",
    "        profits.append(profit)\n",
    "        \n",
    "    return profits      "
   ]
  },
  {
   "cell_type": "code",
   "execution_count": 31,
   "id": "efd9ec19",
   "metadata": {},
   "outputs": [],
   "source": [
    "# Calculate average profit and 95% confidence interval\n",
    "bootstrapped_results_region_1 = bootstrap_results(final_region_1, 1000)\n",
    "average_profit = np.mean(bootstrapped_results_region_1)\n",
    "confidence_interval = np.percentile(bootstrapped_results_region_1, [2.5, 97.5])\n",
    "\n",
    "# Calculate risk of losses as a percentage\n",
    "risk_of_losses = np.mean(np.array(bootstrapped_results_region_1) < 0) * 100"
   ]
  },
  {
   "cell_type": "code",
   "execution_count": 32,
   "id": "3a7ec0c1",
   "metadata": {},
   "outputs": [],
   "source": [
    "# Calculate average profit and 95% confidence interval\n",
    "bootstrapped_results_region_2 = bootstrap_results(final_region_2, 1000)\n",
    "average_profit_2 = np.mean(bootstrapped_results_region_2)\n",
    "confidence_interval_2 = np.percentile(bootstrapped_results_region_2, [2.5, 97.5])\n",
    "\n",
    "# Calculate risk of losses as a percentage\n",
    "risk_of_losses_2 = np.mean(np.array(bootstrapped_results_region_2) < 0) * 100"
   ]
  },
  {
   "cell_type": "code",
   "execution_count": 33,
   "id": "7c919548",
   "metadata": {},
   "outputs": [],
   "source": [
    "# Calculate average profit and 95% confidence interval\n",
    "bootstrapped_results_region_3 = bootstrap_results(final_region_3, 1000)\n",
    "average_profit_3 = np.mean(bootstrapped_results_region_3)\n",
    "confidence_interval_3 = np.percentile(bootstrapped_results_region_3, [2.5, 97.5])\n",
    "\n",
    "# Calculate risk of losses as a percentage\n",
    "risk_of_losses_3 = np.mean(np.array(bootstrapped_results_region_3) < 0) * 100"
   ]
  },
  {
   "cell_type": "code",
   "execution_count": 34,
   "id": "fd04257f-41a9-4dd7-a427-891467dfbf16",
   "metadata": {},
   "outputs": [
    {
     "data": {
      "image/png": "[encoded data removed]",
      "text/plain": [
       "<Figure size 640x480 with 1 Axes>"
      ]
     },
     "metadata": {},
     "output_type": "display_data"
    },
    {
     "name": "stdout",
     "output_type": "stream",
     "text": [
      "95% Confidence Interval: [-1126318.82, 9312167.43]\n"
     ]
    },
    {
     "data": {
      "image/png": "[encoded data removed]",
      "text/plain": [
       "<Figure size 640x480 with 1 Axes>"
      ]
     },
     "metadata": {},
     "output_type": "display_data"
    },
    {
     "name": "stdout",
     "output_type": "stream",
     "text": [
      "95% Confidence Interval: [581328.69, 8260582.29]\n"
     ]
    },
    {
     "data": {
      "image/png": "[encoded data removed]",
      "text/plain": [
       "<Figure size 640x480 with 1 Axes>"
      ]
     },
     "metadata": {},
     "output_type": "display_data"
    },
    {
     "name": "stdout",
     "output_type": "stream",
     "text": [
      "95% Confidence Interval: [-1572327.11, 8450408.33]\n"
     ]
    }
   ],
   "source": [
    "def plot_bootstrap_distribution(bootstrapped_results, confidence_level=0.95):\n",
    "    # Calculate the confidence interval\n",
    "    confidence_interval = np.percentile(bootstrapped_results, [100 * (1 - confidence_level) / 2, 100 * (1 + confidence_level) / 2])\n",
    "\n",
    "    # Plot the distribution with Seaborn\n",
    "    sns.histplot(bootstrapped_results, bins=10, kde=True, color='skyblue', edgecolor='black')\n",
    "    \n",
    "    # Add confidence interval lines\n",
    "    plt.axvline(confidence_interval[0], color='red', linestyle='--', label='95% CI Lower Bound')\n",
    "    plt.axvline(confidence_interval[1], color='green', linestyle='--', label='95% CI Upper Bound')\n",
    "    \n",
    "    plt.xlabel('Average Profit')\n",
    "    plt.ylabel('Density')\n",
    "    plt.title('Distribution of Bootstrapped Profit Predictions')\n",
    "    plt.legend()\n",
    "    plt.show()\n",
    "\n",
    "    print(f\"95% Confidence Interval: [{confidence_interval[0]:.2f}, {confidence_interval[1]:.2f}]\")\n",
    "\n",
    "# Call the function with your bootstrapped results\n",
    "plot_bootstrap_distribution(bootstrapped_results_region_1)\n",
    "plot_bootstrap_distribution(bootstrapped_results_region_2)\n",
    "plot_bootstrap_distribution(bootstrapped_results_region_3)"
   ]
  },
  {
   "cell_type": "code",
   "execution_count": 35,
   "id": "dbaccdbf-5873-4ed6-b54c-07c2d9948d68",
   "metadata": {},
   "outputs": [
    {
     "name": "stdout",
     "output_type": "stream",
     "text": [
      "Region 1\n",
      "Average Total Profit: $3947581.65 USD\n",
      "95% Confidence Interval: [-1126318.82249394  9312167.43302651]\n",
      "Risk of Losses (%): 6.5%\n",
      "\n",
      "Region 2\n",
      "Average Total Profit: $4420820.52 USD\n",
      "95% Confidence Interval: [ 581328.69181376 8260582.29230977]\n",
      "Risk of Losses (%): 1.4%\n",
      "\n",
      "Region 3\n",
      "Average Total Profit: $3408525.91 USD\n",
      "95% Confidence Interval: [-1572327.11133128  8450408.33022999]\n",
      "Risk of Losses (%): 8.5%\n"
     ]
    }
   ],
   "source": [
    "# Region 1 results presentation\n",
    "print(\"Region 1\")\n",
    "print(f\"Average Total Profit: ${average_profit:.2f} USD\")\n",
    "print(f\"95% Confidence Interval: {confidence_interval}\")\n",
    "print(f\"Risk of Losses (%): {risk_of_losses:.1f}%\")\n",
    "print()\n",
    "\n",
    "# Region 2 results presentation\n",
    "print(\"Region 2\")\n",
    "print(f\"Average Total Profit: ${average_profit_2:.2f} USD\")\n",
    "print(f\"95% Confidence Interval: {confidence_interval_2}\")\n",
    "print(f\"Risk of Losses (%): {risk_of_losses_2:.1f}%\")\n",
    "print()\n",
    "\n",
    "# Region 3 results presentation\n",
    "print(\"Region 3\")\n",
    "print(f\"Average Total Profit: ${average_profit_3:.2f} USD\")\n",
    "print(f\"95% Confidence Interval: {confidence_interval_3}\")\n",
    "print(f\"Risk of Losses (%): {risk_of_losses_3:.1f}%\")\n"
   ]
  },
  {
   "cell_type": "markdown",
   "id": "1c4cc991-85b1-4ab6-8643-feded5181e38",
   "metadata": {},
   "source": [
    "## Analysis Summary\n",
    "\n",
    "### Region 1:\n",
    "\n",
    "- **Average Total Profit:** $3,947,581.65 USD\n",
    "- **95% Confidence Interval:** [-1,126,318.82, 9,312,167.43] USD     \n",
    "- **Risk of Losses (%):** 6.5\n",
    "\n",
    "Region 1 demonstrates a positive average total profit, indicating potential profitability. However, the relatively wide confidence interval suggests a level of uncertainty in profit estimates. The calculated risk of losses at 6.5% indicates a moderate likelihood of negative profits.\n",
    "\n",
    "### Region 2:\n",
    "\n",
    "- **Average Total Profit:** $4,420,820.52 USD\n",
    "- **95% Confidence Interval:** [581,328.69, 8,260,582.29] USD\n",
    "- **Risk of Losses (%):** 1.4\n",
    "\n",
    "Region 2 shows a higher average total profit compared to other regions. The narrower confidence interval suggests a higher level of confidence in profit estimates. With a low risk of losses at 1.4%, Region 2 appears to be a favorable choice for oil well development due to its promising profit potential and low risk.\n",
    "\n",
    "### Region 3:\n",
    "\n",
    "- **Average Total Profit:** $3,408,525.91 USD\n",
    "- **95% Confidence Interval:** [-1,572,327.11, 8,450,408.33] USD\n",
    "- **Risk of Losses (%):** 8.5\n",
    "\n",
    "Region 3 presents a moderate average total profit, similar to Region 1. However, the wide confidence interval and the relatively higher risk of losses at 8.5% suggest a less stable profit outlook. While the profit potential is notable, the increased risk needs careful consideration.\n",
    "\n",
    "## Conclusion\n",
    "\n",
    "In summary, among the three regions, **Region 2** stands out as a strong candidate for oil well development. It offers the highest average total profit, a narrow confidence interval indicating confident profit estimates, and the lowest risk of losses. **Regions 1 and 3** show potential but come with more uncertainties and relatively higher risks. Overall, the decision to develop oil wells should be driven by a careful balance between profit potential and risk tolerance.\n"
   ]
  },
  {
   "cell_type": "code",
   "execution_count": null,
   "id": "b8f7c512-563e-457b-a61a-c601f589cbf2",
   "metadata": {},
   "outputs": [],
   "source": []
  },
  {
   "cell_type": "code",
   "execution_count": null,
   "id": "85c10c19-69d6-4c94-813c-1a28616167a9",
   "metadata": {},
   "outputs": [],
   "source": []
  }
 ],
 "metadata": {
  "kernelspec": {
   "display_name": "Python 3 (ipykernel)",
   "language": "python",
   "name": "python3"
  },
  "language_info": {
   "codemirror_mode": {
    "name": "ipython",
    "version": 3
   },
   "file_extension": ".py",
   "mimetype": "text/x-python",
   "name": "python",
   "nbconvert_exporter": "python",
   "pygments_lexer": "ipython3",
   "version": "3.10.9"
  },
  "toc": {
   "base_numbering": 1,
   "nav_menu": {},
   "number_sections": true,
   "sideBar": true,
   "skip_h1_title": true,
   "title_cell": "Table of Contents",
   "title_sidebar": "Contents",
   "toc_cell": false,
   "toc_position": {},
   "toc_section_display": true,
   "toc_window_display": false
  }
 },
 "nbformat": 4,
 "nbformat_minor": 5
}
